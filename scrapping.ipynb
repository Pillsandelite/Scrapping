{
  "nbformat": 4,
  "nbformat_minor": 0,
  "metadata": {
    "colab": {
      "name": "scrapping.ipynb",
      "provenance": [],
      "collapsed_sections": [],
      "authorship_tag": "ABX9TyMxBpw3zZXsIRMt+P2tzDge",
      "include_colab_link": true
    },
    "kernelspec": {
      "name": "python3",
      "display_name": "Python 3"
    },
    "language_info": {
      "name": "python"
    }
  },
  "cells": [
    {
      "cell_type": "markdown",
      "metadata": {
        "id": "view-in-github",
        "colab_type": "text"
      },
      "source": [
        "<a href=\"https://colab.research.google.com/github/Pillsandelite/Scrapping/blob/main/scrapping.ipynb\" target=\"_parent\"><img src=\"https://colab.research.google.com/assets/colab-badge.svg\" alt=\"Open In Colab\"/></a>"
      ]
    },
    {
      "cell_type": "code",
      "execution_count": null,
      "metadata": {
        "colab": {
          "base_uri": "https://localhost:8080/"
        },
        "id": "uToHhx3GIiMq",
        "outputId": "433bea43-b5ba-43c1-ac3a-bf51231c3c1a"
      },
      "outputs": [
        {
          "output_type": "execute_result",
          "data": {
            "text/plain": [
              "{'Content-Type': 'text/html; charset=utf-8', 'Transfer-Encoding': 'chunked', 'Connection': 'keep-alive', 'Vary': 'Accept-Encoding, Accept-Encoding', 'Cache-Control': 'max-age=0, private', 'X-Cache': 'HIT from squizedge.net', 'X-Content-Type-Options': 'nosniff', 'Pragma': 'cache', 'Age': '12', 'Server': 'openresty', 'Date': 'Tue, 08 Mar 2022 20:33:05 GMT', 'Via': '1.1 squizedge.net', 'Strict-Transport-Security': 'max-age=15768000;', 'X-upgrade-enabled': 'off', 'X-Frame-Options': 'SAMEORIGIN', 'Expires': 'Tue, 08 Mar 2022 21:03:04 GMT', 'X-Request-ID': '1e078047-81dc-40dc-abca-2450f1c292b9', 'Content-Encoding': 'gzip'}"
            ]
          },
          "metadata": {},
          "execution_count": 2
        }
      ],
      "source": [
        "import requests\n",
        "\n",
        "monash_web_url = \"https://www.monash.edu/\"\n",
        "response = requests.get(monash_web_url)\n",
        "\n",
        "response.headers"
      ]
    },
    {
      "cell_type": "code",
      "source": [
        "response.status_code"
      ],
      "metadata": {
        "colab": {
          "base_uri": "https://localhost:8080/"
        },
        "id": "Sy8CrMhqPk6Y",
        "outputId": "0322a03a-23d2-4f47-ae57-39584f5bad07"
      },
      "execution_count": null,
      "outputs": [
        {
          "output_type": "execute_result",
          "data": {
            "text/plain": [
              "200"
            ]
          },
          "metadata": {},
          "execution_count": 5
        }
      ]
    },
    {
      "cell_type": "code",
      "source": [
        "response.content[:2000] # check the end index"
      ],
      "metadata": {
        "colab": {
          "base_uri": "https://localhost:8080/"
        },
        "id": "ROkCL6MdPP0q",
        "outputId": "bf970cdf-873a-4e29-afd1-38bd65fdf8ce"
      },
      "execution_count": null,
      "outputs": [
        {
          "output_type": "execute_result",
          "data": {
            "text/plain": [
              "b'\\n\\n\\n \\n<!DOCTYPE html>\\n<html lang=\"en\">\\n    <head>\\n        <meta charset=\"utf-8\" />\\n        <meta name=\"viewport\" content=\"width=device-width, initial-scale=1.0\">\\n        <title>Monash University - one of the top universities in Australia</title>\\n\\n        <link rel=\"canonical\" href=\"https://www.monash.edu\" />\\n        \\n        \\n        \\r\\n<!-- For iPad with high-resolution Retina display running iOS \\xe2\\x89\\xa5 7: -->\\r\\n<link rel=\"apple-touch-icon-precomposed\" sizes=\"152x152\" href=\"https://www.monash.edu/__data/assets/git_bridge/0006/509343/deploy/mysource_files/favicon-152.png\">\\r\\n\\r\\n<!-- For iPad with high-resolution Retina display running iOS \\xe2\\x89\\xa4 6: -->\\r\\n<link rel=\"apple-touch-icon-precomposed\" sizes=\"144x144\" href=\"https://www.monash.edu/__data/assets/git_bridge/0006/509343/deploy/mysource_files/favicon-144.png\">\\r\\n\\r\\n<!-- For iPhone with high-resolution Retina display running iOS \\xe2\\x89\\xa5 7: -->\\r\\n<link rel=\"apple-touch-icon-precomposed\" sizes=\"120x120\" href=\"https://www.monash.edu/__data/assets/git_bridge/0006/509343/deploy/mysource_files/favicon-120.png\">\\r\\n\\r\\n<!-- For iPhone with high-resolution Retina display running iOS \\xe2\\x89\\xa4 6: -->\\r\\n<link rel=\"apple-touch-icon-precomposed\" sizes=\"114x114\" href=\"https://www.monash.edu/__data/assets/git_bridge/0006/509343/deploy/mysource_files/favicon-114.png\">\\r\\n\\r\\n<!-- For first- and second-generation iPad: -->\\r\\n<link rel=\"apple-touch-icon-precomposed\" sizes=\"72x72\" href=\"https://www.monash.edu/__data/assets/git_bridge/0006/509343/deploy/mysource_files/favicon-72.png\">\\r\\n\\r\\n<!-- For non-Retina iPhone, iPod Touch, and Android 2.1+ devices: -->\\r\\n<link rel=\"apple-touch-icon-precomposed\" href=\"https://www.monash.edu/__data/assets/git_bridge/0006/509343/deploy/mysource_files/favicon-57.png\">\\r\\n\\r\\n<link rel=\"icon\" href=\"https://www.monash.edu/__data/assets/git_bridge/0006/509343/deploy/mysource_files/favicon.ico\">\\r\\n<!--[if IE]><link rel=\"shortcut icon\" type=\"image/x-icon\" href=\"https://www.monash.edu/__data/assets/git_bridge/0006/509343/deploy/mysource_files/f'"
            ]
          },
          "metadata": {},
          "execution_count": 6
        }
      ]
    },
    {
      "cell_type": "code",
      "source": [
        "import requests\n",
        "import pandas as pd\n",
        "from bs4 import BeautifulSoup\n",
        "\n",
        "web_url = 'https://www.zyxware.com/articles/5914/list-of-fortune-500-companies-and-their-websites-2018'\n",
        "response = requests.get(web_url)\n",
        "\n",
        "print('Status code\\n', response.status_code)\n",
        "print('\\n--\\n')\n",
        "print('Content of the website\\n', response.content[:2000])"
      ],
      "metadata": {
        "colab": {
          "base_uri": "https://localhost:8080/"
        },
        "id": "K8odsahYP_OA",
        "outputId": "384cdbc5-9573-4360-8fc4-e12918dfae43"
      },
      "execution_count": null,
      "outputs": [
        {
          "output_type": "stream",
          "name": "stdout",
          "text": [
            "Status code\n",
            " 200\n",
            "\n",
            "--\n",
            "\n",
            "Content of the website\n",
            " b'<!DOCTYPE html>\\n<html lang=\"en\" dir=\"ltr\" prefix=\"content: http://purl.org/rss/1.0/modules/content/  dc: http://purl.org/dc/terms/  foaf: http://xmlns.com/foaf/0.1/  og: http://ogp.me/ns#  rdfs: http://www.w3.org/2000/01/rdf-schema#  schema: http://schema.org/  sioc: http://rdfs.org/sioc/ns#  sioct: http://rdfs.org/sioc/types#  skos: http://www.w3.org/2004/02/skos/core#  xsd: http://www.w3.org/2001/XMLSchema# \">\\n  <head>\\n    <meta charset=\"utf-8\" />\\n<script>dataLayer = [];dataLayer.push({\"tag\": \"5914\"});</script>\\n<script>window.dataLayer = window.dataLayer || []; window.dataLayer.push({\"drupalLanguage\":\"en\",\"drupalCountry\":\"IN\",\"siteName\":\"Zyxware Technologies\",\"entityCreated\":\"1562300185\",\"entityLangcode\":\"en\",\"entityStatus\":\"1\",\"entityUid\":\"1\",\"entityUuid\":\"6fdfb477-ce5d-4081-9010-3afd9260cdf7\",\"entityVid\":\"36465\",\"entityName\":\"webmaster\",\"entityType\":\"node\",\"entityBundle\":\"story\",\"entityId\":\"5914\",\"entityTitle\":\"List of Fortune 500 Companies and their Websites (2018)\",\"contentType\":\"articles\",\"SubCategory1\":\"5914\",\"SubCategory2\":\"list-of-fortune-500-companies-and-their-websites-2018\",\"entityTaxonomy\":{\"category\":\"Business Insight\",\"tags\":\"Business Insight,Fortune 500,Drupal Insight,Marketing Resources\"},\"userUid\":0,\"daysFromCreation\":977,\"persona\":\"Drupal\"});</script>\\n<script>var script = document.createElement(\\'script\\');\\n        var fullDate = new Date();\\n        \\n        //convert month to 2 digits\\n        var twoDigitMonth = ((fullDate.getMonth().length+1) === 1)? (fullDate.getMonth()+1) : \\'0\\' + (fullDate.getMonth()+1);\\n        var currentDate = fullDate.getDate() + \\'-\\' + twoDigitMonth + \\'-\\' + fullDate.getFullYear();\\n        script.src = \\'/sites/default/files/inject_ads/validate.js?tm=\\' + currentDate;\\n        script.type = \\'text/javascript\\';\\n        document.getElementsByTagName(\\'head\\')[0].appendChild(script);</script>\\n<link rel=\"canonical\" href=\"https://www.zyxware.com/articles/5914/list-of-fortune-500-companies-and-their-websites-2018\" />\\n<meta http-equiv=\"c'\n"
          ]
        }
      ]
    },
    {
      "cell_type": "code",
      "source": [
        "soup_object = BeautifulSoup(response.content)"
      ],
      "metadata": {
        "id": "ptsfBECmQTi-"
      },
      "execution_count": null,
      "outputs": []
    },
    {
      "cell_type": "code",
      "source": [
        "data_table = soup_object.find_all('table', 'data-table')[0]"
      ],
      "metadata": {
        "id": "Z7LQ4ReFQ8EC"
      },
      "execution_count": null,
      "outputs": []
    },
    {
      "cell_type": "code",
      "source": [
        "all_values = data_table.find_all('tr')\n",
        "all_values[:10]"
      ],
      "metadata": {
        "colab": {
          "base_uri": "https://localhost:8080/"
        },
        "id": "5LWR0m67RE9a",
        "outputId": "ed62a180-60a3-426b-b9c5-152715d9b361"
      },
      "execution_count": null,
      "outputs": [
        {
          "output_type": "execute_result",
          "data": {
            "text/plain": [
              "[<tr>\n",
              " <th>Rank</th>\n",
              " <th>Company</th>\n",
              " <th>Website</th>\n",
              " </tr>, <tr>\n",
              " <td>1</td>\n",
              " <td>Walmart</td>\n",
              " <td><a href=\"http://www.stock.walmart.com\">http://www.stock.walmart.com</a></td>\n",
              " </tr>, <tr>\n",
              " <td>2</td>\n",
              " <td>Exxon Mobil</td>\n",
              " <td><a href=\"http://www.exxonmobil.com\">http://www.exxonmobil.com</a></td>\n",
              " </tr>, <tr>\n",
              " <td>3</td>\n",
              " <td>Berkshire Hathaway</td>\n",
              " <td><a href=\"http://www.berkshirehathaway.com\">http://www.berkshirehathaway.com</a></td>\n",
              " </tr>, <tr>\n",
              " <td>4</td>\n",
              " <td>Apple</td>\n",
              " <td><a href=\"https://www.apple.com\">http://www.apple.com</a></td>\n",
              " </tr>, <tr>\n",
              " <td>5</td>\n",
              " <td>UnitedHealth Group</td>\n",
              " <td><a href=\"http://www.unitedhealthgroup.com\">http://www.unitedhealthgroup.com</a></td>\n",
              " </tr>, <tr>\n",
              " <td>6</td>\n",
              " <td>McKesson</td>\n",
              " <td><a href=\"http://www.mckesson.com\">http://www.mckesson.com</a></td>\n",
              " </tr>, <tr>\n",
              " <td>7</td>\n",
              " <td>CVS Health</td>\n",
              " <td><a href=\"http://www.cvshealth.com\">http://www.cvshealth.com</a></td>\n",
              " </tr>, <tr>\n",
              " <td>8</td>\n",
              " <td>Amazon.com</td>\n",
              " <td><a href=\"https://www.amazon.com\">http://www.amazon.com</a></td>\n",
              " </tr>, <tr>\n",
              " <td>9</td>\n",
              " <td>AT&amp;T</td>\n",
              " <td><a href=\"https://www.att.com\">http://www.att.com</a></td>\n",
              " </tr>]"
            ]
          },
          "metadata": {},
          "execution_count": 11
        }
      ]
    },
    {
      "cell_type": "code",
      "source": [
        "print(all_values[0])\n",
        "print('--')\n",
        "print(all_values[1])\n",
        "print('--')\n",
        "print(all_values[2])"
      ],
      "metadata": {
        "colab": {
          "base_uri": "https://localhost:8080/"
        },
        "id": "Q_tW2vuYRQcy",
        "outputId": "0a57711a-ce7b-4caf-b252-725c70764ad4"
      },
      "execution_count": null,
      "outputs": [
        {
          "output_type": "stream",
          "name": "stdout",
          "text": [
            "<tr>\n",
            "<th>Rank</th>\n",
            "<th>Company</th>\n",
            "<th>Website</th>\n",
            "</tr>\n",
            "--\n",
            "<tr>\n",
            "<td>1</td>\n",
            "<td>Walmart</td>\n",
            "<td><a href=\"http://www.stock.walmart.com\">http://www.stock.walmart.com</a></td>\n",
            "</tr>\n",
            "--\n",
            "<tr>\n",
            "<td>2</td>\n",
            "<td>Exxon Mobil</td>\n",
            "<td><a href=\"http://www.exxonmobil.com\">http://www.exxonmobil.com</a></td>\n",
            "</tr>\n"
          ]
        }
      ]
    },
    {
      "cell_type": "code",
      "source": [
        "fortune_500_df = pd.DataFrame(columns = ['rank', 'company_name', 'company_website']) # Create an empty dataframe\n",
        "ix = 0 # Initialise index to zero\n",
        "\n",
        "for row in all_values[1:]:\n",
        "    values = row.find_all('td') # Extract all elements with tag <td>\n",
        "    # Pick only the text part from the <td> tag\n",
        "    rank = values[0].text\n",
        "    company = values[1].text\n",
        "    website = values[2].text\n",
        "\n",
        "    fortune_500_df.loc[ix] = [rank, company, website] # Store it in the dataframe as a row\n",
        "    ix += 1\n",
        "\n",
        "# Print the first 5 rows of the dataframe\n",
        "fortune_500_df.head()"
      ],
      "metadata": {
        "colab": {
          "base_uri": "https://localhost:8080/",
          "height": 206
        },
        "id": "FAhoIBELReM_",
        "outputId": "51ebe451-b069-435e-c997-4dda9d379a42"
      },
      "execution_count": null,
      "outputs": [
        {
          "output_type": "execute_result",
          "data": {
            "text/html": [
              "\n",
              "  <div id=\"df-ca37fb8f-1476-418f-987f-89b5c8b42056\">\n",
              "    <div class=\"colab-df-container\">\n",
              "      <div>\n",
              "<style scoped>\n",
              "    .dataframe tbody tr th:only-of-type {\n",
              "        vertical-align: middle;\n",
              "    }\n",
              "\n",
              "    .dataframe tbody tr th {\n",
              "        vertical-align: top;\n",
              "    }\n",
              "\n",
              "    .dataframe thead th {\n",
              "        text-align: right;\n",
              "    }\n",
              "</style>\n",
              "<table border=\"1\" class=\"dataframe\">\n",
              "  <thead>\n",
              "    <tr style=\"text-align: right;\">\n",
              "      <th></th>\n",
              "      <th>rank</th>\n",
              "      <th>company_name</th>\n",
              "      <th>company_website</th>\n",
              "    </tr>\n",
              "  </thead>\n",
              "  <tbody>\n",
              "    <tr>\n",
              "      <th>0</th>\n",
              "      <td>1</td>\n",
              "      <td>Walmart</td>\n",
              "      <td>http://www.stock.walmart.com</td>\n",
              "    </tr>\n",
              "    <tr>\n",
              "      <th>1</th>\n",
              "      <td>2</td>\n",
              "      <td>Exxon Mobil</td>\n",
              "      <td>http://www.exxonmobil.com</td>\n",
              "    </tr>\n",
              "    <tr>\n",
              "      <th>2</th>\n",
              "      <td>3</td>\n",
              "      <td>Berkshire Hathaway</td>\n",
              "      <td>http://www.berkshirehathaway.com</td>\n",
              "    </tr>\n",
              "    <tr>\n",
              "      <th>3</th>\n",
              "      <td>4</td>\n",
              "      <td>Apple</td>\n",
              "      <td>http://www.apple.com</td>\n",
              "    </tr>\n",
              "    <tr>\n",
              "      <th>4</th>\n",
              "      <td>5</td>\n",
              "      <td>UnitedHealth Group</td>\n",
              "      <td>http://www.unitedhealthgroup.com</td>\n",
              "    </tr>\n",
              "  </tbody>\n",
              "</table>\n",
              "</div>\n",
              "      <button class=\"colab-df-convert\" onclick=\"convertToInteractive('df-ca37fb8f-1476-418f-987f-89b5c8b42056')\"\n",
              "              title=\"Convert this dataframe to an interactive table.\"\n",
              "              style=\"display:none;\">\n",
              "        \n",
              "  <svg xmlns=\"http://www.w3.org/2000/svg\" height=\"24px\"viewBox=\"0 0 24 24\"\n",
              "       width=\"24px\">\n",
              "    <path d=\"M0 0h24v24H0V0z\" fill=\"none\"/>\n",
              "    <path d=\"M18.56 5.44l.94 2.06.94-2.06 2.06-.94-2.06-.94-.94-2.06-.94 2.06-2.06.94zm-11 1L8.5 8.5l.94-2.06 2.06-.94-2.06-.94L8.5 2.5l-.94 2.06-2.06.94zm10 10l.94 2.06.94-2.06 2.06-.94-2.06-.94-.94-2.06-.94 2.06-2.06.94z\"/><path d=\"M17.41 7.96l-1.37-1.37c-.4-.4-.92-.59-1.43-.59-.52 0-1.04.2-1.43.59L10.3 9.45l-7.72 7.72c-.78.78-.78 2.05 0 2.83L4 21.41c.39.39.9.59 1.41.59.51 0 1.02-.2 1.41-.59l7.78-7.78 2.81-2.81c.8-.78.8-2.07 0-2.86zM5.41 20L4 18.59l7.72-7.72 1.47 1.35L5.41 20z\"/>\n",
              "  </svg>\n",
              "      </button>\n",
              "      \n",
              "  <style>\n",
              "    .colab-df-container {\n",
              "      display:flex;\n",
              "      flex-wrap:wrap;\n",
              "      gap: 12px;\n",
              "    }\n",
              "\n",
              "    .colab-df-convert {\n",
              "      background-color: #E8F0FE;\n",
              "      border: none;\n",
              "      border-radius: 50%;\n",
              "      cursor: pointer;\n",
              "      display: none;\n",
              "      fill: #1967D2;\n",
              "      height: 32px;\n",
              "      padding: 0 0 0 0;\n",
              "      width: 32px;\n",
              "    }\n",
              "\n",
              "    .colab-df-convert:hover {\n",
              "      background-color: #E2EBFA;\n",
              "      box-shadow: 0px 1px 2px rgba(60, 64, 67, 0.3), 0px 1px 3px 1px rgba(60, 64, 67, 0.15);\n",
              "      fill: #174EA6;\n",
              "    }\n",
              "\n",
              "    [theme=dark] .colab-df-convert {\n",
              "      background-color: #3B4455;\n",
              "      fill: #D2E3FC;\n",
              "    }\n",
              "\n",
              "    [theme=dark] .colab-df-convert:hover {\n",
              "      background-color: #434B5C;\n",
              "      box-shadow: 0px 1px 3px 1px rgba(0, 0, 0, 0.15);\n",
              "      filter: drop-shadow(0px 1px 2px rgba(0, 0, 0, 0.3));\n",
              "      fill: #FFFFFF;\n",
              "    }\n",
              "  </style>\n",
              "\n",
              "      <script>\n",
              "        const buttonEl =\n",
              "          document.querySelector('#df-ca37fb8f-1476-418f-987f-89b5c8b42056 button.colab-df-convert');\n",
              "        buttonEl.style.display =\n",
              "          google.colab.kernel.accessAllowed ? 'block' : 'none';\n",
              "\n",
              "        async function convertToInteractive(key) {\n",
              "          const element = document.querySelector('#df-ca37fb8f-1476-418f-987f-89b5c8b42056');\n",
              "          const dataTable =\n",
              "            await google.colab.kernel.invokeFunction('convertToInteractive',\n",
              "                                                     [key], {});\n",
              "          if (!dataTable) return;\n",
              "\n",
              "          const docLinkHtml = 'Like what you see? Visit the ' +\n",
              "            '<a target=\"_blank\" href=https://colab.research.google.com/notebooks/data_table.ipynb>data table notebook</a>'\n",
              "            + ' to learn more about interactive tables.';\n",
              "          element.innerHTML = '';\n",
              "          dataTable['output_type'] = 'display_data';\n",
              "          await google.colab.output.renderOutput(dataTable, element);\n",
              "          const docLink = document.createElement('div');\n",
              "          docLink.innerHTML = docLinkHtml;\n",
              "          element.appendChild(docLink);\n",
              "        }\n",
              "      </script>\n",
              "    </div>\n",
              "  </div>\n",
              "  "
            ],
            "text/plain": [
              "  rank        company_name                   company_website\n",
              "0    1             Walmart      http://www.stock.walmart.com\n",
              "1    2         Exxon Mobil         http://www.exxonmobil.com\n",
              "2    3  Berkshire Hathaway  http://www.berkshirehathaway.com\n",
              "3    4               Apple              http://www.apple.com\n",
              "4    5  UnitedHealth Group  http://www.unitedhealthgroup.com"
            ]
          },
          "metadata": {},
          "execution_count": 13
        }
      ]
    },
    {
      "cell_type": "code",
      "source": [
        "fortune_500_df.to_csv('fortune_500_companies.csv', index=False)"
      ],
      "metadata": {
        "id": "VSlPQVhhRo-z"
      },
      "execution_count": null,
      "outputs": []
    }
  ]
}